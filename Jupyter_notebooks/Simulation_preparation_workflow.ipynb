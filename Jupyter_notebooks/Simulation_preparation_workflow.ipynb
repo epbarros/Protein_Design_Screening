{
 "cells": [
  {
   "cell_type": "markdown",
   "metadata": {},
   "source": [
    "# Protein preparation and set-up for MD simulations - using Amber"
   ]
  },
  {
   "cell_type": "markdown",
   "metadata": {},
   "source": [
    "Store name of all designs (without .pdb or any extension) in a file named design_list.txt\n",
    "\n",
    "In here, the starting model structures (in model_name.pdb format) should be stored in a directory named \"designs\""
   ]
  },
  {
   "cell_type": "code",
   "execution_count": null,
   "metadata": {},
   "outputs": [],
   "source": [
    "designs_file = '/path/to/design_list.txt' # file containing all design names\n",
    "outdir = '/path/to/root/directory/to/store/trajectory/files/' # directory where simulation input files will be saved to"
   ]
  },
  {
   "cell_type": "code",
   "execution_count": null,
   "metadata": {},
   "outputs": [],
   "source": [
    "## import necessary libraries\n",
    "import re"
   ]
  },
  {
   "cell_type": "markdown",
   "metadata": {},
   "source": [
    "## Apo"
   ]
  },
  {
   "cell_type": "markdown",
   "metadata": {},
   "source": [
    "- The initial protein preparation step is run in Schrodinger's Maestro. For apo simulations, the ligand is removed from the starting pdb structure."
   ]
  },
  {
   "cell_type": "code",
   "execution_count": null,
   "metadata": {},
   "outputs": [],
   "source": [
    "%%bash\n",
    "cd /path/to/root/directory/to/store/trajectory/files/\n",
    "while IFS= read -r file\n",
    "        do\n",
    "            cd /path/to/root/directory/to/store/trajectory/files/\n",
    "            mkdir \"$file\"   ## Create directory for each design\n",
    "            cp designs/\"$file\".pdb \"$file\"  # copying starting structure to specific design directory\n",
    "            cd \"$file\"\n",
    "            mkdir apo\n",
    "            cp \"$file\".pdb apo/\"$file\"_apo.pdb\n",
    "            cd apo\n",
    "            sed -i '/HETATM/d' \"$file\"_apo.pdb\n",
    "            \n",
    "            ## Running Maestro\n",
    "            /soft/schrodinger/latest/utilities/prepwizard -disulfides -label_pkas -mse -noepik -fix -rehtreat -propka_pH 7 \"$file\"_apo.pdb \"$file\"_apo_preparedByMaestro.pdb\n",
    "            \n",
    "        done < \"design_list.txt\""
   ]
  },
  {
   "cell_type": "markdown",
   "metadata": {},
   "source": [
    "- Running dowser:"
   ]
  },
  {
   "cell_type": "code",
   "execution_count": null,
   "metadata": {},
   "outputs": [],
   "source": [
    "%%bash\n",
    "cd /path/to/root/directory/to/store/trajectory/files/\n",
    "while IFS= read -r file\n",
    "        do\n",
    "            cd /path/to/root/directory/to/store/trajectory/files/\n",
    "            cd \"$file\"/apo\n",
    "            rm dowserwat*\n",
    "            dowserx \"$file\"_apo_preparedByMaestro.pdb  ## Running dowser\n",
    "            cp \"$file\"_apo_preparedByMaestro.pdb \"$file\"_apo_readyForLeap.pdb \n",
    "            sed -i '/REMARK/d' ./dowserwat.pdb \n",
    "            sed -i '/REMARK/d' \"$file\"_apo_readyForLeap.pdb\n",
    "            sed -i '/END/d' \"$file\"_apo_readyForLeap.pdb\n",
    "            sed -i '/CONECT/d' \"$file\"_apo_readyForLeap.pdb\n",
    "        done < \"design_list.txt\""
   ]
  },
  {
   "cell_type": "markdown",
   "metadata": {},
   "source": [
    "- Preparing files for tLeap:"
   ]
  },
  {
   "cell_type": "markdown",
   "metadata": {},
   "source": [
    "First, checking Histidine protonations to change residue names to appropriate Amber residue types (In Maestro-prepared file, if it has a HD1, it's HID. If it has a HE2, it's HIE). \n",
    "\n",
    "The histidine names (HIE or HID will be printed for each design. If a single histidine is listed as both HIE and HID, it correspond to a positively-charged histidine, with Amber residue name HIP)."
   ]
  },
  {
   "cell_type": "code",
   "execution_count": null,
   "metadata": {},
   "outputs": [],
   "source": [
    "designs = open(designs_file, 'r')\n",
    "\n",
    "for line in designs:\n",
    "    name = line.partition(\"\\n\")[0]\n",
    "    with open(outdir + str(name) + '/apo/' + str(name) +'_apo_readyForLeap.pdb', 'r') as pdb:\n",
    "        print('\\n' + str(name))\n",
    "        for line in pdb:\n",
    "            columns = line.split()\n",
    "            if columns[3] == 'HIS' and columns[2] == 'HD1':\n",
    "                print('HID ' + str(columns[5]))\n",
    "            elif columns[3] == 'HIS' and columns[2] == 'HE2':\n",
    "                print('HIE ' + str(columns[5]))"
   ]
  },
  {
   "cell_type": "markdown",
   "metadata": {},
   "source": [
    "Copying dowser waters into the prepared protein file and adding 'TER' in between molecules:"
   ]
  },
  {
   "cell_type": "code",
   "execution_count": null,
   "metadata": {},
   "outputs": [],
   "source": [
    "designs = open(designs_file, 'r')\n",
    "\n",
    "for line in designs:\n",
    "    name = line.partition(\"\\n\")[0]\n",
    "    with open(outdir+ str(name) + '/apo/' + str(name) +'_apo_readyForLeap.pdb', 'a') as pdb:\n",
    "        print(str(name))\n",
    "        infile = open(outdir+ str(name) + '/apo/dowserwat.pdb', 'r')\n",
    "        i = 1\n",
    "        pdb.write('TER\\n')\n",
    "        for line in infile:\n",
    "            if i == 3:\n",
    "                pdb.write(line)\n",
    "                pdb.write('TER\\n')\n",
    "                print('TER')\n",
    "                i = 1\n",
    "            else:\n",
    "                pdb.write(line)\n",
    "                i = i + 1\n",
    "        pdb.write('END')"
   ]
  },
  {
   "cell_type": "markdown",
   "metadata": {},
   "source": [
    "Finally, changing histidine names to the appropriate protonation states, according to the above identified protonation states. This has to be done manually for each design. If design contains cystine residues forming disulfide bridges, change their residue name to CYX here as well.\n",
    "\n",
    "Atom names of waters added by dowser are also changed to correct Amber format."
   ]
  },
  {
   "cell_type": "code",
   "execution_count": null,
   "metadata": {},
   "outputs": [],
   "source": [
    "## Change HBI_49 below to design name\n",
    "%%bash -s \"HBI_49\" \"HBI_49_apo_readyForLeap.pdb\"\n",
    "cd /path/to/root/directory/to/store/trajectory/files/$1/apo\n",
    "sed -i 's/OW  HOH/O   HOH/g' $2\n",
    "\n",
    "sed -i 's/HIS A  28/HID A  28/g' $2\n",
    "sed -i 's/HIS A  44/HID A  44/g' $2\n",
    "\n",
    "#sed -i 's/CYS A   1/CYX A   1/g' $2\n",
    "#sed -i 's/CYS A  59/CYX A  59/g' $2"
   ]
  },
  {
   "cell_type": "markdown",
   "metadata": {},
   "source": [
    "- Run tLeap"
   ]
  },
  {
   "cell_type": "markdown",
   "metadata": {},
   "source": [
    "Create tleap1.in input file to calculate system charge and necessary number of ions to be added:"
   ]
  },
  {
   "cell_type": "code",
   "execution_count": null,
   "metadata": {},
   "outputs": [],
   "source": [
    "designs = open(designs_file, 'r')\n",
    "\n",
    "\n",
    "for line in designs:\n",
    "    name = line.partition(\"\\n\")[0]\n",
    "    with open(outdir+ str(name) + '/apo/'+ str(name) +'_tleap1.in', 'w') as leap:\n",
    "        print(str(name))\n",
    "        infile = open(outdir + 'tleap1.in', 'r')  ## Reference input file provided with this workflow\n",
    "        i = 1\n",
    "        for line in infile:\n",
    "            if i == 3:\n",
    "                leap.write('mol=loadpdb ' + str(name) + '_apo_readyForLeap.pdb\\n')\n",
    "                i = i + 1\n",
    "            else:\n",
    "                leap.write(line)\n",
    "                i = i + 1"
   ]
  },
  {
   "cell_type": "markdown",
   "metadata": {},
   "source": [
    "ATTENTION: For designs with dissulfide bonds, add the line: bond mol.ID1.SG mol.ID2.SG to the leap input, where ID1 and ID2 correspond to the IDs of the cysteine residues"
   ]
  },
  {
   "cell_type": "code",
   "execution_count": null,
   "metadata": {},
   "outputs": [],
   "source": [
    "%%bash\n",
    "cd /path/to/root/directory/to/store/trajectory/files/\n",
    "while IFS= read -r file\n",
    "        do\n",
    "            cd /path/to/root/directory/to/store/trajectory/files/\n",
    "            cd \"$file\"/apo\n",
    "            tleap -s -f \"$file\"_tleap1.in > \"$file\"_tleap1.out     \n",
    "        done < \"design_list.txt\""
   ]
  },
  {
   "cell_type": "markdown",
   "metadata": {},
   "source": [
    "Based on tleap1.out, we calculate how many ions to add to the water box and prepare the tleap2.in file to run tleap to completion:"
   ]
  },
  {
   "cell_type": "code",
   "execution_count": null,
   "metadata": {},
   "outputs": [],
   "source": [
    "designs = open(designs_file, 'r')\n",
    "\n",
    "box = re.compile(r'Total vdw box size')\n",
    "charge = re.compile(r'Total unperturbed charge')\n",
    "\n",
    "ionic_strength = 0.15 # Desired salt concentration, 0.15M\n",
    "NA = 6.022E23 ## Avogadro's number\n",
    "\n",
    "for line in designs:\n",
    "    name = line.partition(\"\\n\")[0]\n",
    "    with open(outdir + str(name) + '/apo/'+ str(name) +'_tleap1.out', 'r') as leap:\n",
    "        print('\\n' + str(name))\n",
    "        for line in leap:\n",
    "            \n",
    "            # Calculating total number of ions necessary for target concentration\n",
    "            if box.search(line):\n",
    "                columns = line.split()\n",
    "                x = float(columns[4])*(1.0E-09)\n",
    "                y = float(columns[5])*(1.0E-09)\n",
    "                z = float(columns[6])*(1.0E-09)\n",
    "            elif charge.search(line):\n",
    "                columns = line.split()\n",
    "                charge_value = float(columns[3])\n",
    "\n",
    "        print('Box dimensions (m) = ' + str(x) + ' ' + str(y)+' ' + str(z))\n",
    "        print('Charge = ' + str(charge_value))\n",
    "\n",
    "        V = x*y*z\n",
    "        ions = V*ionic_strength* NA\n",
    "\n",
    "        print('total number of ions = ' + str(ions) + ' or ' + str(int(round(ions))))\n",
    "\n",
    "        ## Calculating charge and number of ions necessary for system neutrality\n",
    "        remaining = int(round(ions)) - int(round(abs(charge_value)))\n",
    "\n",
    "        Cl = round(remaining/2)    ## Here the number are rounded to the interger if the remaining value is odd\n",
    "        Na = round(remaining/2)\n",
    "\n",
    "        if charge_value <0:\n",
    "            Na = Na + int(round(abs(charge_value)))\n",
    "        else:\n",
    "            Cl = Cl + int(round(abs(charge_value)))\n",
    "    \n",
    "        ## Final number of ions to be added to system - This is saved automatically in the tleap2 input file\n",
    "        ## and is printed only for record keeping\n",
    "        print('Na+ = ' + str(Na))\n",
    "        print('Cl- = ' + str(Cl))\n",
    "        \n",
    "        ## Writing tleap2.in\n",
    "        with open((outdir + str(name) + '/apo/'+ str(name) +'_tleap2.in', 'w') as leap2:\n",
    "            infile = open(outdir+'tleap2.in', 'r')\n",
    "            i = 1\n",
    "            for line in infile:\n",
    "                if i == 3:\n",
    "                    leap2.write('mol=loadpdb ' + str(name) + '_apo_readyForLeap.pdb\\n')\n",
    "                    i = i + 1\n",
    "                elif i == 7:\n",
    "                    leap2.write('addions mol Na+ ' + str(Na) + ' Cl- ' + str(Cl) + '\\n')\n",
    "                    i = i + 1\n",
    "                elif i == 10:\n",
    "                    leap2.write('saveamberparm mol ' + str(name) + '_apo.prmtop ' + str(name) + '_apo.inpcrd\\n')\n",
    "                    i = i + 1\n",
    "                else:\n",
    "                    leap2.write(line)\n",
    "                    i = i + 1"
   ]
  },
  {
   "cell_type": "code",
   "execution_count": null,
   "metadata": {},
   "outputs": [],
   "source": [
    "%%bash\n",
    "cd /path/to/root/directory/to/store/trajectory/files/\n",
    "while IFS= read -r file\n",
    "        do\n",
    "            cd /path/to/root/directory/to/store/trajectory/files/\n",
    "            cd \"$file\"/apo\n",
    "            tleap -s -f \"$file\"_tleap2.in  > \"$file\"_tleap2.out \n",
    "        done < \"design_list.txt\""
   ]
  },
  {
   "cell_type": "markdown",
   "metadata": {},
   "source": [
    "The necessary protein files for amber simulations (prmtop and inpcrd) are now saved to each of the design's directories"
   ]
  },
  {
   "cell_type": "markdown",
   "metadata": {},
   "source": [
    "## Holo"
   ]
  },
  {
   "cell_type": "markdown",
   "metadata": {},
   "source": [
    "The same steps are performed for the holo system preparation, with the exception of dowser. The ligand GAFF parametrization files (frcmod and lib) should be saved in the same /path/to/root/directory/to/store/trajectory/files/"
   ]
  },
  {
   "cell_type": "markdown",
   "metadata": {},
   "source": [
    "Run Maestro:"
   ]
  },
  {
   "cell_type": "code",
   "execution_count": null,
   "metadata": {},
   "outputs": [],
   "source": [
    "%%bash\n",
    "cd /path/to/root/directory/to/store/trajectory/files/\n",
    "while IFS= read -r file\n",
    "        do\n",
    "            cd /path/to/root/directory/to/store/trajectory/files/\n",
    "            cd \"$file\"\n",
    "            mkdir holo\n",
    "            cp \"$file\".pdb holo/\"$file\"_holo.pdb\n",
    "            cd holo\n",
    "            \n",
    "            ## Running Maestro\n",
    "            /soft/schrodinger/latest/utilities/prepwizard -disulfides -label_pkas -mse -noepik -fix -rehtreat -propka_pH 7 \"$file\"_holo.pdb \"$file\"_holo_preparedByMaestro.pdb\n",
    "            \n",
    "        done < \"design_list.txt\""
   ]
  },
  {
   "cell_type": "code",
   "execution_count": null,
   "metadata": {},
   "outputs": [],
   "source": [
    "%%bash\n",
    "cd /path/to/root/directory/to/store/trajectory/files/\n",
    "while IFS= read -r file\n",
    "        do\n",
    "\n",
    "            cd /path/to/root/directory/to/store/trajectory/files/\n",
    "            cd \"$file\"/holo\n",
    "            cp \"$file\"_holo_preparedByMaestro.pdb \"$file\"_holo_readyForLeap.pdb \n",
    "            sed -i '/REMARK/d' \"$file\"_holo_readyForLeap.pdb\n",
    "            sed -i '/END/d' \"$file\"_holo_readyForLeap.pdb \n",
    "            sed -i '/CONECT/d' \"$file\"_holo_readyForLeap.pdb\n",
    "            sed -i '/TITLE/d' \"$file\"_holo_readyForLeap.pdb\n",
    "            sed -i '/HET /d' \"$file\"_holo_readyForLeap.pdb\n",
    "            sed -i '/HETNAM/d' \"$file\"_holo_readyForLeap.pdb\n",
    "            sed -i '/FORMUL/d' \"$file\"_holo_readyForLeap.pdb\n",
    "            sed -i '/MODEL/d' \"$file\"_holo_readyForLeap.pdb\n",
    "            \n",
    "        done < \"design_list.txt\""
   ]
  },
  {
   "cell_type": "markdown",
   "metadata": {},
   "source": [
    "Correct histidines protonation states:"
   ]
  },
  {
   "cell_type": "code",
   "execution_count": null,
   "metadata": {},
   "outputs": [],
   "source": [
    "designs = open(designs_file, 'r')\n",
    "\n",
    "for line in designs:\n",
    "    name = line.partition(\"\\n\")[0]\n",
    "    with open(outdir + str(name) + '/holo/' + str(name) +'_holo_readyForLeap.pdb', 'r') as pdb:\n",
    "        print('\\n' + str(name))\n",
    "        for line in pdb:\n",
    "            columns = line.split()\n",
    "            if columns[3] == 'HIS' and columns[2] == 'HD1':\n",
    "                print('HID ' + str(columns[5]))\n",
    "            elif columns[3] == 'HIS' and columns[2] == 'HE2':\n",
    "                print('HIE ' + str(columns[5]))"
   ]
  },
  {
   "cell_type": "code",
   "execution_count": null,
   "metadata": {},
   "outputs": [],
   "source": [
    "## Change HBI_49 below to design name\n",
    "%%bash -s \"HBI_49\" \"HBI_49_holo_readyForLeap.pdb\"\n",
    "cd /path/to/root/directory/to/store/trajectory/files/$1/holo\n",
    "\n",
    "sed -i 's/HIS A  28/HID A  28/g' $2\n",
    "sed -i 's/HIS A  44/HID A  44/g' $2\n",
    "\n",
    "#sed -i 's/CYS A   1/CYX A   1/g' $2\n",
    "#sed -i 's/CYS A  59/CYX A  59/g' $2"
   ]
  },
  {
   "cell_type": "markdown",
   "metadata": {},
   "source": [
    "ATTENTION: make sure ligand atom names match those in the generated parameter files"
   ]
  },
  {
   "cell_type": "markdown",
   "metadata": {},
   "source": [
    "Run tleap1.in:"
   ]
  },
  {
   "cell_type": "code",
   "execution_count": null,
   "metadata": {},
   "outputs": [],
   "source": [
    "# Write input file\n",
    "designs = open(designs_file, 'r')\n",
    "\n",
    "\n",
    "for line in designs:\n",
    "    name = line.partition(\"\\n\")[0]\n",
    "    with open(outdir+ str(name) + '/holo/'+ str(name) +'_tleap1_holo.in', 'w') as leap:\n",
    "        print(str(name))\n",
    "        infile = open(outdir + 'tleap1_holo.in', 'r')  ## Reference input file provided with this workflow\n",
    "        i = 1\n",
    "        for line in infile:\n",
    "            if i == 6:\n",
    "                leap.write('mol=loadpdb ' + str(name) + '_holo_readyForLeap.pdb\\n')\n",
    "                i = i + 1\n",
    "            else:\n",
    "                leap.write(line)\n",
    "                i = i + 1"
   ]
  },
  {
   "cell_type": "code",
   "execution_count": null,
   "metadata": {},
   "outputs": [],
   "source": [
    "%%bash\n",
    "cd /path/to/root/directory/to/store/trajectory/files/\n",
    "while IFS= read -r file\n",
    "        do\n",
    "            cd /path/to/root/directory/to/store/trajectory/files/\n",
    "            cd \"$file\"/holo\n",
    "            tleap -s -f \"$file\"_tleap1_holo.in > \"$file\"_tleap1_holo.out     \n",
    "        done < \"design_list.txt\""
   ]
  },
  {
   "cell_type": "markdown",
   "metadata": {},
   "source": [
    "Run tleap2.in:"
   ]
  },
  {
   "cell_type": "code",
   "execution_count": null,
   "metadata": {},
   "outputs": [],
   "source": [
    "# Write input file\n",
    "designs = open(designs_file, 'r')\n",
    "\n",
    "box = re.compile(r'Total vdw box size')\n",
    "charge = re.compile(r'Total unperturbed charge')\n",
    "\n",
    "ionic_strength = 0.15 # Desired salt concentration, 0.15M\n",
    "NA = 6.022E23 ## Avogadro's number\n",
    "\n",
    "for line in designs:\n",
    "    name = line.partition(\"\\n\")[0]\n",
    "    with open(outdir + str(name) + '/holo/'+ str(name) +'_tleap1_holo.out', 'r') as leap:\n",
    "        print('\\n' + str(name))\n",
    "        for line in leap:\n",
    "            \n",
    "            # Calculating total number of ions necessary for target concentration\n",
    "            if box.search(line):\n",
    "                columns = line.split()\n",
    "                x = float(columns[4])*(1.0E-09)\n",
    "                y = float(columns[5])*(1.0E-09)\n",
    "                z = float(columns[6])*(1.0E-09)\n",
    "            elif charge.search(line):\n",
    "                columns = line.split()\n",
    "                charge_value = float(columns[3])\n",
    "\n",
    "        print('Box dimensions (m) = ' + str(x) + ' ' + str(y)+' ' + str(z))\n",
    "        print('Charge = ' + str(charge_value))\n",
    "\n",
    "        V = x*y*z\n",
    "        ions = V*ionic_strength* NA\n",
    "\n",
    "        print('total number of ions = ' + str(ions) + ' or ' + str(int(round(ions))))\n",
    "\n",
    "        ## Calculating charge and number of ions necessary for system neutrality\n",
    "        remaining = int(round(ions)) - int(round(abs(charge_value)))\n",
    "\n",
    "        Cl = round(remaining/2)    ## Here the number are rounded to the interger if the remaining value is odd\n",
    "        Na = round(remaining/2)\n",
    "\n",
    "        if charge_value <0:\n",
    "            Na = Na + int(round(abs(charge_value)))\n",
    "        else:\n",
    "            Cl = Cl + int(round(abs(charge_value)))\n",
    "    \n",
    "        ## Final number of ions to be added to system - This is saved automatically in the tleap2 input file\n",
    "        ## and is printed only for record keeping\n",
    "        print('Na+ = ' + str(Na))\n",
    "        print('Cl- = ' + str(Cl))\n",
    "        \n",
    "        ## Writing tleap2.in\n",
    "        with open((outdir + str(name) + '/holo/'+ str(name) +'_tleap2_holo.in', 'w') as leap2:\n",
    "            infile = open(outdir+'tleap2_holo.in', 'r')\n",
    "            i = 1\n",
    "            for line in infile:\n",
    "                if i == 6:\n",
    "                    leap2.write('mol=loadpdb ' + str(name) + '_holo_readyForLeap.pdb\\n')\n",
    "                    i = i + 1\n",
    "                elif i == 10:\n",
    "                    leap2.write('addions mol Na+ ' + str(Na) + ' Cl- ' + str(Cl) + '\\n')\n",
    "                    i = i + 1\n",
    "                elif i == 13:\n",
    "                    leap2.write('saveamberparm mol ' + str(name) + '_holo.prmtop ' + str(name) + '_holo.inpcrd\\n')\n",
    "                    i = i + 1\n",
    "                else:\n",
    "                    leap2.write(line)\n",
    "                    i = i + 1"
   ]
  },
  {
   "cell_type": "code",
   "execution_count": null,
   "metadata": {},
   "outputs": [],
   "source": [
    "%%bash\n",
    "cd /path/to/root/directory/to/store/trajectory/files/\n",
    "while IFS= read -r file\n",
    "        do\n",
    "            cd /path/to/root/directory/to/store/trajectory/files/\n",
    "            cd \"$file\"/holo\n",
    "            tleap -s -f \"$file\"_tleap2_holo.in  > \"$file\"_tleap2_holo.out \n",
    "        done < \"design_list.txt\""
   ]
  },
  {
   "cell_type": "code",
   "execution_count": null,
   "metadata": {},
   "outputs": [],
   "source": []
  }
 ],
 "metadata": {
  "kernelspec": {
   "display_name": "Python 3",
   "language": "python",
   "name": "python3"
  },
  "language_info": {
   "codemirror_mode": {
    "name": "ipython",
    "version": 3
   },
   "file_extension": ".py",
   "mimetype": "text/x-python",
   "name": "python",
   "nbconvert_exporter": "python",
   "pygments_lexer": "ipython3",
   "version": "3.5.5"
  }
 },
 "nbformat": 4,
 "nbformat_minor": 1
}
